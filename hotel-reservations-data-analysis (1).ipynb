{
 "cells": [
  {
   "cell_type": "markdown",
   "id": "0d6db7e1",
   "metadata": {
    "papermill": {
     "duration": 0.009727,
     "end_time": "2023-03-09T10:49:28.154311",
     "exception": false,
     "start_time": "2023-03-09T10:49:28.144584",
     "status": "completed"
    },
    "tags": []
   },
   "source": [
    "1.  #  <b> Hotel Reservations Data Analysis</b>\n",
    "<img src=\"https://4.imimg.com/data4/SW/QU/MY-19494989/hb-500x500.jpg\" width=\"900px\" height=\"900px\">\n",
    "\n",
    " \n",
    " \n",
    "*  Analysis of Hotel booking Data \n",
    "*  Solve the problems related business \n",
    "*  Provide better solutions.\n",
    "*  Analysis of past trend and current trend."
   ]
  },
  {
   "cell_type": "markdown",
   "id": "440c075e",
   "metadata": {
    "papermill": {
     "duration": 0.008031,
     "end_time": "2023-03-09T10:49:28.170993",
     "exception": false,
     "start_time": "2023-03-09T10:49:28.162962",
     "status": "completed"
    },
    "tags": []
   },
   "source": [
    "2. # Importing library  for Data cleaning and performing operations and visualizations."
   ]
  },
  {
   "cell_type": "code",
   "execution_count": 1,
   "id": "f5ac9cc5",
   "metadata": {
    "execution": {
     "iopub.execute_input": "2023-03-09T10:49:28.190733Z",
     "iopub.status.busy": "2023-03-09T10:49:28.189801Z",
     "iopub.status.idle": "2023-03-09T10:49:29.358089Z",
     "shell.execute_reply": "2023-03-09T10:49:29.356760Z"
    },
    "papermill": {
     "duration": 1.182716,
     "end_time": "2023-03-09T10:49:29.362148",
     "exception": false,
     "start_time": "2023-03-09T10:49:28.179432",
     "status": "completed"
    },
    "tags": []
   },
   "outputs": [
    {
     "name": "stdout",
     "output_type": "stream",
     "text": [
      "/kaggle/input/hotel-reservations-classification-dataset/Hotel Reservations.csv\n"
     ]
    }
   ],
   "source": [
    "import numpy as np # linear algebra\n",
    "import pandas as pd # data processing, CSV file I/O (e.g. pd.read_csv)\n",
    "import seaborn as sns\n",
    "import matplotlib.pyplot as plt\n",
    "\n",
    "import os\n",
    "for dirname, _, filenames in os.walk('/kaggle/input'):\n",
    "    for filename in filenames:\n",
    "        print(os.path.join(dirname, filename))"
   ]
  },
  {
   "cell_type": "code",
   "execution_count": 2,
   "id": "a49bc9d2",
   "metadata": {
    "execution": {
     "iopub.execute_input": "2023-03-09T10:49:29.382245Z",
     "iopub.status.busy": "2023-03-09T10:49:29.381837Z",
     "iopub.status.idle": "2023-03-09T10:49:29.556005Z",
     "shell.execute_reply": "2023-03-09T10:49:29.554726Z"
    },
    "papermill": {
     "duration": 0.186502,
     "end_time": "2023-03-09T10:49:29.558569",
     "exception": false,
     "start_time": "2023-03-09T10:49:29.372067",
     "status": "completed"
    },
    "tags": []
   },
   "outputs": [],
   "source": [
    "df=pd.read_csv(\"/kaggle/input/hotel-reservations-classification-dataset/Hotel Reservations.csv\")"
   ]
  },
  {
   "cell_type": "code",
   "execution_count": 3,
   "id": "45efaf90",
   "metadata": {
    "execution": {
     "iopub.execute_input": "2023-03-09T10:49:29.580123Z",
     "iopub.status.busy": "2023-03-09T10:49:29.579236Z",
     "iopub.status.idle": "2023-03-09T10:49:29.608363Z",
     "shell.execute_reply": "2023-03-09T10:49:29.607177Z"
    },
    "papermill": {
     "duration": 0.041446,
     "end_time": "2023-03-09T10:49:29.610839",
     "exception": false,
     "start_time": "2023-03-09T10:49:29.569393",
     "status": "completed"
    },
    "tags": []
   },
   "outputs": [
    {
     "data": {
      "text/html": [
       "<div>\n",
       "<style scoped>\n",
       "    .dataframe tbody tr th:only-of-type {\n",
       "        vertical-align: middle;\n",
       "    }\n",
       "\n",
       "    .dataframe tbody tr th {\n",
       "        vertical-align: top;\n",
       "    }\n",
       "\n",
       "    .dataframe thead th {\n",
       "        text-align: right;\n",
       "    }\n",
       "</style>\n",
       "<table border=\"1\" class=\"dataframe\">\n",
       "  <thead>\n",
       "    <tr style=\"text-align: right;\">\n",
       "      <th></th>\n",
       "      <th>Booking_ID</th>\n",
       "      <th>no_of_adults</th>\n",
       "      <th>no_of_children</th>\n",
       "      <th>no_of_weekend_nights</th>\n",
       "      <th>no_of_week_nights</th>\n",
       "      <th>type_of_meal_plan</th>\n",
       "      <th>required_car_parking_space</th>\n",
       "      <th>room_type_reserved</th>\n",
       "      <th>lead_time</th>\n",
       "      <th>arrival_year</th>\n",
       "      <th>arrival_month</th>\n",
       "      <th>arrival_date</th>\n",
       "      <th>market_segment_type</th>\n",
       "      <th>repeated_guest</th>\n",
       "      <th>no_of_previous_cancellations</th>\n",
       "      <th>no_of_previous_bookings_not_canceled</th>\n",
       "      <th>avg_price_per_room</th>\n",
       "      <th>no_of_special_requests</th>\n",
       "      <th>booking_status</th>\n",
       "    </tr>\n",
       "  </thead>\n",
       "  <tbody>\n",
       "    <tr>\n",
       "      <th>0</th>\n",
       "      <td>INN00001</td>\n",
       "      <td>2</td>\n",
       "      <td>0</td>\n",
       "      <td>1</td>\n",
       "      <td>2</td>\n",
       "      <td>Meal Plan 1</td>\n",
       "      <td>0</td>\n",
       "      <td>Room_Type 1</td>\n",
       "      <td>224</td>\n",
       "      <td>2017</td>\n",
       "      <td>10</td>\n",
       "      <td>2</td>\n",
       "      <td>Offline</td>\n",
       "      <td>0</td>\n",
       "      <td>0</td>\n",
       "      <td>0</td>\n",
       "      <td>65.00</td>\n",
       "      <td>0</td>\n",
       "      <td>Not_Canceled</td>\n",
       "    </tr>\n",
       "    <tr>\n",
       "      <th>1</th>\n",
       "      <td>INN00002</td>\n",
       "      <td>2</td>\n",
       "      <td>0</td>\n",
       "      <td>2</td>\n",
       "      <td>3</td>\n",
       "      <td>Not Selected</td>\n",
       "      <td>0</td>\n",
       "      <td>Room_Type 1</td>\n",
       "      <td>5</td>\n",
       "      <td>2018</td>\n",
       "      <td>11</td>\n",
       "      <td>6</td>\n",
       "      <td>Online</td>\n",
       "      <td>0</td>\n",
       "      <td>0</td>\n",
       "      <td>0</td>\n",
       "      <td>106.68</td>\n",
       "      <td>1</td>\n",
       "      <td>Not_Canceled</td>\n",
       "    </tr>\n",
       "    <tr>\n",
       "      <th>2</th>\n",
       "      <td>INN00003</td>\n",
       "      <td>1</td>\n",
       "      <td>0</td>\n",
       "      <td>2</td>\n",
       "      <td>1</td>\n",
       "      <td>Meal Plan 1</td>\n",
       "      <td>0</td>\n",
       "      <td>Room_Type 1</td>\n",
       "      <td>1</td>\n",
       "      <td>2018</td>\n",
       "      <td>2</td>\n",
       "      <td>28</td>\n",
       "      <td>Online</td>\n",
       "      <td>0</td>\n",
       "      <td>0</td>\n",
       "      <td>0</td>\n",
       "      <td>60.00</td>\n",
       "      <td>0</td>\n",
       "      <td>Canceled</td>\n",
       "    </tr>\n",
       "    <tr>\n",
       "      <th>3</th>\n",
       "      <td>INN00004</td>\n",
       "      <td>2</td>\n",
       "      <td>0</td>\n",
       "      <td>0</td>\n",
       "      <td>2</td>\n",
       "      <td>Meal Plan 1</td>\n",
       "      <td>0</td>\n",
       "      <td>Room_Type 1</td>\n",
       "      <td>211</td>\n",
       "      <td>2018</td>\n",
       "      <td>5</td>\n",
       "      <td>20</td>\n",
       "      <td>Online</td>\n",
       "      <td>0</td>\n",
       "      <td>0</td>\n",
       "      <td>0</td>\n",
       "      <td>100.00</td>\n",
       "      <td>0</td>\n",
       "      <td>Canceled</td>\n",
       "    </tr>\n",
       "    <tr>\n",
       "      <th>4</th>\n",
       "      <td>INN00005</td>\n",
       "      <td>2</td>\n",
       "      <td>0</td>\n",
       "      <td>1</td>\n",
       "      <td>1</td>\n",
       "      <td>Not Selected</td>\n",
       "      <td>0</td>\n",
       "      <td>Room_Type 1</td>\n",
       "      <td>48</td>\n",
       "      <td>2018</td>\n",
       "      <td>4</td>\n",
       "      <td>11</td>\n",
       "      <td>Online</td>\n",
       "      <td>0</td>\n",
       "      <td>0</td>\n",
       "      <td>0</td>\n",
       "      <td>94.50</td>\n",
       "      <td>0</td>\n",
       "      <td>Canceled</td>\n",
       "    </tr>\n",
       "  </tbody>\n",
       "</table>\n",
       "</div>"
      ],
      "text/plain": [
       "  Booking_ID  no_of_adults  no_of_children  no_of_weekend_nights  \\\n",
       "0   INN00001             2               0                     1   \n",
       "1   INN00002             2               0                     2   \n",
       "2   INN00003             1               0                     2   \n",
       "3   INN00004             2               0                     0   \n",
       "4   INN00005             2               0                     1   \n",
       "\n",
       "   no_of_week_nights type_of_meal_plan  required_car_parking_space  \\\n",
       "0                  2       Meal Plan 1                           0   \n",
       "1                  3      Not Selected                           0   \n",
       "2                  1       Meal Plan 1                           0   \n",
       "3                  2       Meal Plan 1                           0   \n",
       "4                  1      Not Selected                           0   \n",
       "\n",
       "  room_type_reserved  lead_time  arrival_year  arrival_month  arrival_date  \\\n",
       "0        Room_Type 1        224          2017             10             2   \n",
       "1        Room_Type 1          5          2018             11             6   \n",
       "2        Room_Type 1          1          2018              2            28   \n",
       "3        Room_Type 1        211          2018              5            20   \n",
       "4        Room_Type 1         48          2018              4            11   \n",
       "\n",
       "  market_segment_type  repeated_guest  no_of_previous_cancellations  \\\n",
       "0             Offline               0                             0   \n",
       "1              Online               0                             0   \n",
       "2              Online               0                             0   \n",
       "3              Online               0                             0   \n",
       "4              Online               0                             0   \n",
       "\n",
       "   no_of_previous_bookings_not_canceled  avg_price_per_room  \\\n",
       "0                                     0               65.00   \n",
       "1                                     0              106.68   \n",
       "2                                     0               60.00   \n",
       "3                                     0              100.00   \n",
       "4                                     0               94.50   \n",
       "\n",
       "   no_of_special_requests booking_status  \n",
       "0                       0   Not_Canceled  \n",
       "1                       1   Not_Canceled  \n",
       "2                       0       Canceled  \n",
       "3                       0       Canceled  \n",
       "4                       0       Canceled  "
      ]
     },
     "execution_count": 3,
     "metadata": {},
     "output_type": "execute_result"
    }
   ],
   "source": [
    "# Checking the head using df.head()\n",
    "df.head()"
   ]
  },
  {
   "cell_type": "code",
   "execution_count": 4,
   "id": "488d25d0",
   "metadata": {
    "execution": {
     "iopub.execute_input": "2023-03-09T10:49:29.631472Z",
     "iopub.status.busy": "2023-03-09T10:49:29.630348Z",
     "iopub.status.idle": "2023-03-09T10:49:29.649137Z",
     "shell.execute_reply": "2023-03-09T10:49:29.647962Z"
    },
    "papermill": {
     "duration": 0.031656,
     "end_time": "2023-03-09T10:49:29.651646",
     "exception": false,
     "start_time": "2023-03-09T10:49:29.619990",
     "status": "completed"
    },
    "tags": []
   },
   "outputs": [
    {
     "data": {
      "text/html": [
       "<div>\n",
       "<style scoped>\n",
       "    .dataframe tbody tr th:only-of-type {\n",
       "        vertical-align: middle;\n",
       "    }\n",
       "\n",
       "    .dataframe tbody tr th {\n",
       "        vertical-align: top;\n",
       "    }\n",
       "\n",
       "    .dataframe thead th {\n",
       "        text-align: right;\n",
       "    }\n",
       "</style>\n",
       "<table border=\"1\" class=\"dataframe\">\n",
       "  <thead>\n",
       "    <tr style=\"text-align: right;\">\n",
       "      <th></th>\n",
       "      <th>Booking_ID</th>\n",
       "      <th>no_of_adults</th>\n",
       "      <th>no_of_children</th>\n",
       "      <th>no_of_weekend_nights</th>\n",
       "      <th>no_of_week_nights</th>\n",
       "      <th>type_of_meal_plan</th>\n",
       "      <th>required_car_parking_space</th>\n",
       "      <th>room_type_reserved</th>\n",
       "      <th>lead_time</th>\n",
       "      <th>arrival_year</th>\n",
       "      <th>arrival_month</th>\n",
       "      <th>arrival_date</th>\n",
       "      <th>market_segment_type</th>\n",
       "      <th>repeated_guest</th>\n",
       "      <th>no_of_previous_cancellations</th>\n",
       "      <th>no_of_previous_bookings_not_canceled</th>\n",
       "      <th>avg_price_per_room</th>\n",
       "      <th>no_of_special_requests</th>\n",
       "      <th>booking_status</th>\n",
       "    </tr>\n",
       "  </thead>\n",
       "  <tbody>\n",
       "    <tr>\n",
       "      <th>36270</th>\n",
       "      <td>INN36271</td>\n",
       "      <td>3</td>\n",
       "      <td>0</td>\n",
       "      <td>2</td>\n",
       "      <td>6</td>\n",
       "      <td>Meal Plan 1</td>\n",
       "      <td>0</td>\n",
       "      <td>Room_Type 4</td>\n",
       "      <td>85</td>\n",
       "      <td>2018</td>\n",
       "      <td>8</td>\n",
       "      <td>3</td>\n",
       "      <td>Online</td>\n",
       "      <td>0</td>\n",
       "      <td>0</td>\n",
       "      <td>0</td>\n",
       "      <td>167.80</td>\n",
       "      <td>1</td>\n",
       "      <td>Not_Canceled</td>\n",
       "    </tr>\n",
       "    <tr>\n",
       "      <th>36271</th>\n",
       "      <td>INN36272</td>\n",
       "      <td>2</td>\n",
       "      <td>0</td>\n",
       "      <td>1</td>\n",
       "      <td>3</td>\n",
       "      <td>Meal Plan 1</td>\n",
       "      <td>0</td>\n",
       "      <td>Room_Type 1</td>\n",
       "      <td>228</td>\n",
       "      <td>2018</td>\n",
       "      <td>10</td>\n",
       "      <td>17</td>\n",
       "      <td>Online</td>\n",
       "      <td>0</td>\n",
       "      <td>0</td>\n",
       "      <td>0</td>\n",
       "      <td>90.95</td>\n",
       "      <td>2</td>\n",
       "      <td>Canceled</td>\n",
       "    </tr>\n",
       "    <tr>\n",
       "      <th>36272</th>\n",
       "      <td>INN36273</td>\n",
       "      <td>2</td>\n",
       "      <td>0</td>\n",
       "      <td>2</td>\n",
       "      <td>6</td>\n",
       "      <td>Meal Plan 1</td>\n",
       "      <td>0</td>\n",
       "      <td>Room_Type 1</td>\n",
       "      <td>148</td>\n",
       "      <td>2018</td>\n",
       "      <td>7</td>\n",
       "      <td>1</td>\n",
       "      <td>Online</td>\n",
       "      <td>0</td>\n",
       "      <td>0</td>\n",
       "      <td>0</td>\n",
       "      <td>98.39</td>\n",
       "      <td>2</td>\n",
       "      <td>Not_Canceled</td>\n",
       "    </tr>\n",
       "    <tr>\n",
       "      <th>36273</th>\n",
       "      <td>INN36274</td>\n",
       "      <td>2</td>\n",
       "      <td>0</td>\n",
       "      <td>0</td>\n",
       "      <td>3</td>\n",
       "      <td>Not Selected</td>\n",
       "      <td>0</td>\n",
       "      <td>Room_Type 1</td>\n",
       "      <td>63</td>\n",
       "      <td>2018</td>\n",
       "      <td>4</td>\n",
       "      <td>21</td>\n",
       "      <td>Online</td>\n",
       "      <td>0</td>\n",
       "      <td>0</td>\n",
       "      <td>0</td>\n",
       "      <td>94.50</td>\n",
       "      <td>0</td>\n",
       "      <td>Canceled</td>\n",
       "    </tr>\n",
       "    <tr>\n",
       "      <th>36274</th>\n",
       "      <td>INN36275</td>\n",
       "      <td>2</td>\n",
       "      <td>0</td>\n",
       "      <td>1</td>\n",
       "      <td>2</td>\n",
       "      <td>Meal Plan 1</td>\n",
       "      <td>0</td>\n",
       "      <td>Room_Type 1</td>\n",
       "      <td>207</td>\n",
       "      <td>2018</td>\n",
       "      <td>12</td>\n",
       "      <td>30</td>\n",
       "      <td>Offline</td>\n",
       "      <td>0</td>\n",
       "      <td>0</td>\n",
       "      <td>0</td>\n",
       "      <td>161.67</td>\n",
       "      <td>0</td>\n",
       "      <td>Not_Canceled</td>\n",
       "    </tr>\n",
       "  </tbody>\n",
       "</table>\n",
       "</div>"
      ],
      "text/plain": [
       "      Booking_ID  no_of_adults  no_of_children  no_of_weekend_nights  \\\n",
       "36270   INN36271             3               0                     2   \n",
       "36271   INN36272             2               0                     1   \n",
       "36272   INN36273             2               0                     2   \n",
       "36273   INN36274             2               0                     0   \n",
       "36274   INN36275             2               0                     1   \n",
       "\n",
       "       no_of_week_nights type_of_meal_plan  required_car_parking_space  \\\n",
       "36270                  6       Meal Plan 1                           0   \n",
       "36271                  3       Meal Plan 1                           0   \n",
       "36272                  6       Meal Plan 1                           0   \n",
       "36273                  3      Not Selected                           0   \n",
       "36274                  2       Meal Plan 1                           0   \n",
       "\n",
       "      room_type_reserved  lead_time  arrival_year  arrival_month  \\\n",
       "36270        Room_Type 4         85          2018              8   \n",
       "36271        Room_Type 1        228          2018             10   \n",
       "36272        Room_Type 1        148          2018              7   \n",
       "36273        Room_Type 1         63          2018              4   \n",
       "36274        Room_Type 1        207          2018             12   \n",
       "\n",
       "       arrival_date market_segment_type  repeated_guest  \\\n",
       "36270             3              Online               0   \n",
       "36271            17              Online               0   \n",
       "36272             1              Online               0   \n",
       "36273            21              Online               0   \n",
       "36274            30             Offline               0   \n",
       "\n",
       "       no_of_previous_cancellations  no_of_previous_bookings_not_canceled  \\\n",
       "36270                             0                                     0   \n",
       "36271                             0                                     0   \n",
       "36272                             0                                     0   \n",
       "36273                             0                                     0   \n",
       "36274                             0                                     0   \n",
       "\n",
       "       avg_price_per_room  no_of_special_requests booking_status  \n",
       "36270              167.80                       1   Not_Canceled  \n",
       "36271               90.95                       2       Canceled  \n",
       "36272               98.39                       2   Not_Canceled  \n",
       "36273               94.50                       0       Canceled  \n",
       "36274              161.67                       0   Not_Canceled  "
      ]
     },
     "execution_count": 4,
     "metadata": {},
     "output_type": "execute_result"
    }
   ],
   "source": [
    "# Checking the tail using df.tail()\n",
    "df.tail()"
   ]
  },
  {
   "cell_type": "markdown",
   "id": "2865be5d",
   "metadata": {
    "papermill": {
     "duration": 0.008763,
     "end_time": "2023-03-09T10:49:29.669737",
     "exception": false,
     "start_time": "2023-03-09T10:49:29.660974",
     "status": "completed"
    },
    "tags": []
   },
   "source": [
    "#### the df.sample() method is used to randomly select a sample of rows from a DataFrame. The sample is selected randomly, and the size of the sample can be specified by the user. This method is useful when you want to work with a smaller subset of the data for exploratory purposes, or when you want to create a representative sample for testing purposes. "
   ]
  },
  {
   "cell_type": "code",
   "execution_count": 5,
   "id": "7a2d3dd8",
   "metadata": {
    "execution": {
     "iopub.execute_input": "2023-03-09T10:49:29.689650Z",
     "iopub.status.busy": "2023-03-09T10:49:29.689195Z",
     "iopub.status.idle": "2023-03-09T10:49:29.714263Z",
     "shell.execute_reply": "2023-03-09T10:49:29.713046Z"
    },
    "papermill": {
     "duration": 0.037855,
     "end_time": "2023-03-09T10:49:29.716731",
     "exception": false,
     "start_time": "2023-03-09T10:49:29.678876",
     "status": "completed"
    },
    "tags": []
   },
   "outputs": [
    {
     "data": {
      "text/html": [
       "<div>\n",
       "<style scoped>\n",
       "    .dataframe tbody tr th:only-of-type {\n",
       "        vertical-align: middle;\n",
       "    }\n",
       "\n",
       "    .dataframe tbody tr th {\n",
       "        vertical-align: top;\n",
       "    }\n",
       "\n",
       "    .dataframe thead th {\n",
       "        text-align: right;\n",
       "    }\n",
       "</style>\n",
       "<table border=\"1\" class=\"dataframe\">\n",
       "  <thead>\n",
       "    <tr style=\"text-align: right;\">\n",
       "      <th></th>\n",
       "      <th>Booking_ID</th>\n",
       "      <th>no_of_adults</th>\n",
       "      <th>no_of_children</th>\n",
       "      <th>no_of_weekend_nights</th>\n",
       "      <th>no_of_week_nights</th>\n",
       "      <th>type_of_meal_plan</th>\n",
       "      <th>required_car_parking_space</th>\n",
       "      <th>room_type_reserved</th>\n",
       "      <th>lead_time</th>\n",
       "      <th>arrival_year</th>\n",
       "      <th>arrival_month</th>\n",
       "      <th>arrival_date</th>\n",
       "      <th>market_segment_type</th>\n",
       "      <th>repeated_guest</th>\n",
       "      <th>no_of_previous_cancellations</th>\n",
       "      <th>no_of_previous_bookings_not_canceled</th>\n",
       "      <th>avg_price_per_room</th>\n",
       "      <th>no_of_special_requests</th>\n",
       "      <th>booking_status</th>\n",
       "    </tr>\n",
       "  </thead>\n",
       "  <tbody>\n",
       "    <tr>\n",
       "      <th>29618</th>\n",
       "      <td>INN29619</td>\n",
       "      <td>2</td>\n",
       "      <td>0</td>\n",
       "      <td>0</td>\n",
       "      <td>3</td>\n",
       "      <td>Meal Plan 1</td>\n",
       "      <td>0</td>\n",
       "      <td>Room_Type 1</td>\n",
       "      <td>279</td>\n",
       "      <td>2018</td>\n",
       "      <td>10</td>\n",
       "      <td>12</td>\n",
       "      <td>Offline</td>\n",
       "      <td>0</td>\n",
       "      <td>0</td>\n",
       "      <td>0</td>\n",
       "      <td>110.0</td>\n",
       "      <td>0</td>\n",
       "      <td>Canceled</td>\n",
       "    </tr>\n",
       "    <tr>\n",
       "      <th>8156</th>\n",
       "      <td>INN08157</td>\n",
       "      <td>1</td>\n",
       "      <td>0</td>\n",
       "      <td>1</td>\n",
       "      <td>5</td>\n",
       "      <td>Meal Plan 1</td>\n",
       "      <td>0</td>\n",
       "      <td>Room_Type 1</td>\n",
       "      <td>349</td>\n",
       "      <td>2018</td>\n",
       "      <td>10</td>\n",
       "      <td>4</td>\n",
       "      <td>Offline</td>\n",
       "      <td>0</td>\n",
       "      <td>0</td>\n",
       "      <td>0</td>\n",
       "      <td>80.0</td>\n",
       "      <td>0</td>\n",
       "      <td>Canceled</td>\n",
       "    </tr>\n",
       "    <tr>\n",
       "      <th>31309</th>\n",
       "      <td>INN31310</td>\n",
       "      <td>3</td>\n",
       "      <td>0</td>\n",
       "      <td>2</td>\n",
       "      <td>3</td>\n",
       "      <td>Meal Plan 1</td>\n",
       "      <td>0</td>\n",
       "      <td>Room_Type 4</td>\n",
       "      <td>24</td>\n",
       "      <td>2018</td>\n",
       "      <td>4</td>\n",
       "      <td>17</td>\n",
       "      <td>Online</td>\n",
       "      <td>0</td>\n",
       "      <td>0</td>\n",
       "      <td>0</td>\n",
       "      <td>145.4</td>\n",
       "      <td>2</td>\n",
       "      <td>Not_Canceled</td>\n",
       "    </tr>\n",
       "    <tr>\n",
       "      <th>22846</th>\n",
       "      <td>INN22847</td>\n",
       "      <td>2</td>\n",
       "      <td>0</td>\n",
       "      <td>0</td>\n",
       "      <td>1</td>\n",
       "      <td>Meal Plan 1</td>\n",
       "      <td>0</td>\n",
       "      <td>Room_Type 1</td>\n",
       "      <td>98</td>\n",
       "      <td>2018</td>\n",
       "      <td>5</td>\n",
       "      <td>7</td>\n",
       "      <td>Online</td>\n",
       "      <td>0</td>\n",
       "      <td>0</td>\n",
       "      <td>0</td>\n",
       "      <td>126.9</td>\n",
       "      <td>0</td>\n",
       "      <td>Canceled</td>\n",
       "    </tr>\n",
       "    <tr>\n",
       "      <th>30612</th>\n",
       "      <td>INN30613</td>\n",
       "      <td>1</td>\n",
       "      <td>0</td>\n",
       "      <td>0</td>\n",
       "      <td>1</td>\n",
       "      <td>Meal Plan 1</td>\n",
       "      <td>0</td>\n",
       "      <td>Room_Type 1</td>\n",
       "      <td>8</td>\n",
       "      <td>2018</td>\n",
       "      <td>3</td>\n",
       "      <td>2</td>\n",
       "      <td>Online</td>\n",
       "      <td>0</td>\n",
       "      <td>0</td>\n",
       "      <td>0</td>\n",
       "      <td>86.0</td>\n",
       "      <td>0</td>\n",
       "      <td>Not_Canceled</td>\n",
       "    </tr>\n",
       "    <tr>\n",
       "      <th>3441</th>\n",
       "      <td>INN03442</td>\n",
       "      <td>2</td>\n",
       "      <td>0</td>\n",
       "      <td>1</td>\n",
       "      <td>0</td>\n",
       "      <td>Meal Plan 1</td>\n",
       "      <td>0</td>\n",
       "      <td>Room_Type 1</td>\n",
       "      <td>23</td>\n",
       "      <td>2018</td>\n",
       "      <td>2</td>\n",
       "      <td>21</td>\n",
       "      <td>Online</td>\n",
       "      <td>0</td>\n",
       "      <td>0</td>\n",
       "      <td>0</td>\n",
       "      <td>91.0</td>\n",
       "      <td>1</td>\n",
       "      <td>Canceled</td>\n",
       "    </tr>\n",
       "    <tr>\n",
       "      <th>34197</th>\n",
       "      <td>INN34198</td>\n",
       "      <td>1</td>\n",
       "      <td>0</td>\n",
       "      <td>0</td>\n",
       "      <td>2</td>\n",
       "      <td>Not Selected</td>\n",
       "      <td>0</td>\n",
       "      <td>Room_Type 1</td>\n",
       "      <td>73</td>\n",
       "      <td>2018</td>\n",
       "      <td>12</td>\n",
       "      <td>2</td>\n",
       "      <td>Online</td>\n",
       "      <td>0</td>\n",
       "      <td>0</td>\n",
       "      <td>0</td>\n",
       "      <td>79.2</td>\n",
       "      <td>1</td>\n",
       "      <td>Not_Canceled</td>\n",
       "    </tr>\n",
       "    <tr>\n",
       "      <th>11963</th>\n",
       "      <td>INN11964</td>\n",
       "      <td>1</td>\n",
       "      <td>0</td>\n",
       "      <td>0</td>\n",
       "      <td>1</td>\n",
       "      <td>Meal Plan 1</td>\n",
       "      <td>0</td>\n",
       "      <td>Room_Type 1</td>\n",
       "      <td>75</td>\n",
       "      <td>2018</td>\n",
       "      <td>6</td>\n",
       "      <td>15</td>\n",
       "      <td>Corporate</td>\n",
       "      <td>1</td>\n",
       "      <td>0</td>\n",
       "      <td>4</td>\n",
       "      <td>65.0</td>\n",
       "      <td>0</td>\n",
       "      <td>Not_Canceled</td>\n",
       "    </tr>\n",
       "    <tr>\n",
       "      <th>9057</th>\n",
       "      <td>INN09058</td>\n",
       "      <td>2</td>\n",
       "      <td>0</td>\n",
       "      <td>0</td>\n",
       "      <td>3</td>\n",
       "      <td>Meal Plan 1</td>\n",
       "      <td>0</td>\n",
       "      <td>Room_Type 1</td>\n",
       "      <td>22</td>\n",
       "      <td>2018</td>\n",
       "      <td>10</td>\n",
       "      <td>11</td>\n",
       "      <td>Offline</td>\n",
       "      <td>0</td>\n",
       "      <td>0</td>\n",
       "      <td>0</td>\n",
       "      <td>95.0</td>\n",
       "      <td>0</td>\n",
       "      <td>Not_Canceled</td>\n",
       "    </tr>\n",
       "    <tr>\n",
       "      <th>10758</th>\n",
       "      <td>INN10759</td>\n",
       "      <td>2</td>\n",
       "      <td>0</td>\n",
       "      <td>2</td>\n",
       "      <td>1</td>\n",
       "      <td>Meal Plan 1</td>\n",
       "      <td>0</td>\n",
       "      <td>Room_Type 1</td>\n",
       "      <td>221</td>\n",
       "      <td>2017</td>\n",
       "      <td>10</td>\n",
       "      <td>17</td>\n",
       "      <td>Offline</td>\n",
       "      <td>0</td>\n",
       "      <td>0</td>\n",
       "      <td>0</td>\n",
       "      <td>65.0</td>\n",
       "      <td>0</td>\n",
       "      <td>Not_Canceled</td>\n",
       "    </tr>\n",
       "  </tbody>\n",
       "</table>\n",
       "</div>"
      ],
      "text/plain": [
       "      Booking_ID  no_of_adults  no_of_children  no_of_weekend_nights  \\\n",
       "29618   INN29619             2               0                     0   \n",
       "8156    INN08157             1               0                     1   \n",
       "31309   INN31310             3               0                     2   \n",
       "22846   INN22847             2               0                     0   \n",
       "30612   INN30613             1               0                     0   \n",
       "3441    INN03442             2               0                     1   \n",
       "34197   INN34198             1               0                     0   \n",
       "11963   INN11964             1               0                     0   \n",
       "9057    INN09058             2               0                     0   \n",
       "10758   INN10759             2               0                     2   \n",
       "\n",
       "       no_of_week_nights type_of_meal_plan  required_car_parking_space  \\\n",
       "29618                  3       Meal Plan 1                           0   \n",
       "8156                   5       Meal Plan 1                           0   \n",
       "31309                  3       Meal Plan 1                           0   \n",
       "22846                  1       Meal Plan 1                           0   \n",
       "30612                  1       Meal Plan 1                           0   \n",
       "3441                   0       Meal Plan 1                           0   \n",
       "34197                  2      Not Selected                           0   \n",
       "11963                  1       Meal Plan 1                           0   \n",
       "9057                   3       Meal Plan 1                           0   \n",
       "10758                  1       Meal Plan 1                           0   \n",
       "\n",
       "      room_type_reserved  lead_time  arrival_year  arrival_month  \\\n",
       "29618        Room_Type 1        279          2018             10   \n",
       "8156         Room_Type 1        349          2018             10   \n",
       "31309        Room_Type 4         24          2018              4   \n",
       "22846        Room_Type 1         98          2018              5   \n",
       "30612        Room_Type 1          8          2018              3   \n",
       "3441         Room_Type 1         23          2018              2   \n",
       "34197        Room_Type 1         73          2018             12   \n",
       "11963        Room_Type 1         75          2018              6   \n",
       "9057         Room_Type 1         22          2018             10   \n",
       "10758        Room_Type 1        221          2017             10   \n",
       "\n",
       "       arrival_date market_segment_type  repeated_guest  \\\n",
       "29618            12             Offline               0   \n",
       "8156              4             Offline               0   \n",
       "31309            17              Online               0   \n",
       "22846             7              Online               0   \n",
       "30612             2              Online               0   \n",
       "3441             21              Online               0   \n",
       "34197             2              Online               0   \n",
       "11963            15           Corporate               1   \n",
       "9057             11             Offline               0   \n",
       "10758            17             Offline               0   \n",
       "\n",
       "       no_of_previous_cancellations  no_of_previous_bookings_not_canceled  \\\n",
       "29618                             0                                     0   \n",
       "8156                              0                                     0   \n",
       "31309                             0                                     0   \n",
       "22846                             0                                     0   \n",
       "30612                             0                                     0   \n",
       "3441                              0                                     0   \n",
       "34197                             0                                     0   \n",
       "11963                             0                                     4   \n",
       "9057                              0                                     0   \n",
       "10758                             0                                     0   \n",
       "\n",
       "       avg_price_per_room  no_of_special_requests booking_status  \n",
       "29618               110.0                       0       Canceled  \n",
       "8156                 80.0                       0       Canceled  \n",
       "31309               145.4                       2   Not_Canceled  \n",
       "22846               126.9                       0       Canceled  \n",
       "30612                86.0                       0   Not_Canceled  \n",
       "3441                 91.0                       1       Canceled  \n",
       "34197                79.2                       1   Not_Canceled  \n",
       "11963                65.0                       0   Not_Canceled  \n",
       "9057                 95.0                       0   Not_Canceled  \n",
       "10758                65.0                       0   Not_Canceled  "
      ]
     },
     "execution_count": 5,
     "metadata": {},
     "output_type": "execute_result"
    }
   ],
   "source": [
    "# Checking the sample  using df.sample()\n",
    "df.sample(10)"
   ]
  },
  {
   "cell_type": "code",
   "execution_count": 6,
   "id": "626bd2f6",
   "metadata": {
    "execution": {
     "iopub.execute_input": "2023-03-09T10:49:29.738272Z",
     "iopub.status.busy": "2023-03-09T10:49:29.737817Z",
     "iopub.status.idle": "2023-03-09T10:49:29.771524Z",
     "shell.execute_reply": "2023-03-09T10:49:29.769897Z"
    },
    "papermill": {
     "duration": 0.047471,
     "end_time": "2023-03-09T10:49:29.774114",
     "exception": false,
     "start_time": "2023-03-09T10:49:29.726643",
     "status": "completed"
    },
    "tags": []
   },
   "outputs": [
    {
     "name": "stdout",
     "output_type": "stream",
     "text": [
      "<class 'pandas.core.frame.DataFrame'>\n",
      "RangeIndex: 36275 entries, 0 to 36274\n",
      "Data columns (total 19 columns):\n",
      " #   Column                                Non-Null Count  Dtype  \n",
      "---  ------                                --------------  -----  \n",
      " 0   Booking_ID                            36275 non-null  object \n",
      " 1   no_of_adults                          36275 non-null  int64  \n",
      " 2   no_of_children                        36275 non-null  int64  \n",
      " 3   no_of_weekend_nights                  36275 non-null  int64  \n",
      " 4   no_of_week_nights                     36275 non-null  int64  \n",
      " 5   type_of_meal_plan                     36275 non-null  object \n",
      " 6   required_car_parking_space            36275 non-null  int64  \n",
      " 7   room_type_reserved                    36275 non-null  object \n",
      " 8   lead_time                             36275 non-null  int64  \n",
      " 9   arrival_year                          36275 non-null  int64  \n",
      " 10  arrival_month                         36275 non-null  int64  \n",
      " 11  arrival_date                          36275 non-null  int64  \n",
      " 12  market_segment_type                   36275 non-null  object \n",
      " 13  repeated_guest                        36275 non-null  int64  \n",
      " 14  no_of_previous_cancellations          36275 non-null  int64  \n",
      " 15  no_of_previous_bookings_not_canceled  36275 non-null  int64  \n",
      " 16  avg_price_per_room                    36275 non-null  float64\n",
      " 17  no_of_special_requests                36275 non-null  int64  \n",
      " 18  booking_status                        36275 non-null  object \n",
      "dtypes: float64(1), int64(13), object(5)\n",
      "memory usage: 5.3+ MB\n"
     ]
    }
   ],
   "source": [
    "# Checking the information ,null and data types in dataframe using df.info()\n",
    "df.info()"
   ]
  },
  {
   "cell_type": "markdown",
   "id": "dea04ff7",
   "metadata": {
    "papermill": {
     "duration": 0.009447,
     "end_time": "2023-03-09T10:49:29.793503",
     "exception": false,
     "start_time": "2023-03-09T10:49:29.784056",
     "status": "completed"
    },
    "tags": []
   },
   "source": [
    "#### The pd.describe() method in Pandas is used to generate descriptive statistics for a DataFrame. The method returns a summary of the central tendency, dispersion, and shape of the distribution of a set of continuous variables or a sample of data.\n",
    "\n",
    "#### The pd.describe() method provides a summary of the following statistics for each column in the DataFrame:\n",
    "\n",
    "#### count: The number of non-null values in the column\n",
    "#### mean: The mean value of the column\n",
    "#### std: The standard deviation of the column\n",
    "#### min: The minimum value of the column\n",
    "#### 25%: The first quartile (25th percentile) of the column\n",
    "#### 50%: The median (50th percentile) of the column\n",
    "#### 75%: The third quartile (75th percentile) of the column\n",
    "#### max: The maximum value of the column "
   ]
  },
  {
   "cell_type": "code",
   "execution_count": 7,
   "id": "f0dfe379",
   "metadata": {
    "execution": {
     "iopub.execute_input": "2023-03-09T10:49:29.815325Z",
     "iopub.status.busy": "2023-03-09T10:49:29.814861Z",
     "iopub.status.idle": "2023-03-09T10:49:29.887456Z",
     "shell.execute_reply": "2023-03-09T10:49:29.886195Z"
    },
    "papermill": {
     "duration": 0.086417,
     "end_time": "2023-03-09T10:49:29.889960",
     "exception": false,
     "start_time": "2023-03-09T10:49:29.803543",
     "status": "completed"
    },
    "tags": []
   },
   "outputs": [
    {
     "data": {
      "text/html": [
       "<div>\n",
       "<style scoped>\n",
       "    .dataframe tbody tr th:only-of-type {\n",
       "        vertical-align: middle;\n",
       "    }\n",
       "\n",
       "    .dataframe tbody tr th {\n",
       "        vertical-align: top;\n",
       "    }\n",
       "\n",
       "    .dataframe thead th {\n",
       "        text-align: right;\n",
       "    }\n",
       "</style>\n",
       "<table border=\"1\" class=\"dataframe\">\n",
       "  <thead>\n",
       "    <tr style=\"text-align: right;\">\n",
       "      <th></th>\n",
       "      <th>no_of_adults</th>\n",
       "      <th>no_of_children</th>\n",
       "      <th>no_of_weekend_nights</th>\n",
       "      <th>no_of_week_nights</th>\n",
       "      <th>required_car_parking_space</th>\n",
       "      <th>lead_time</th>\n",
       "      <th>arrival_year</th>\n",
       "      <th>arrival_month</th>\n",
       "      <th>arrival_date</th>\n",
       "      <th>repeated_guest</th>\n",
       "      <th>no_of_previous_cancellations</th>\n",
       "      <th>no_of_previous_bookings_not_canceled</th>\n",
       "      <th>avg_price_per_room</th>\n",
       "      <th>no_of_special_requests</th>\n",
       "    </tr>\n",
       "  </thead>\n",
       "  <tbody>\n",
       "    <tr>\n",
       "      <th>count</th>\n",
       "      <td>36275.000000</td>\n",
       "      <td>36275.000000</td>\n",
       "      <td>36275.000000</td>\n",
       "      <td>36275.000000</td>\n",
       "      <td>36275.000000</td>\n",
       "      <td>36275.000000</td>\n",
       "      <td>36275.000000</td>\n",
       "      <td>36275.000000</td>\n",
       "      <td>36275.000000</td>\n",
       "      <td>36275.000000</td>\n",
       "      <td>36275.000000</td>\n",
       "      <td>36275.000000</td>\n",
       "      <td>36275.000000</td>\n",
       "      <td>36275.000000</td>\n",
       "    </tr>\n",
       "    <tr>\n",
       "      <th>mean</th>\n",
       "      <td>1.844962</td>\n",
       "      <td>0.105279</td>\n",
       "      <td>0.810724</td>\n",
       "      <td>2.204300</td>\n",
       "      <td>0.030986</td>\n",
       "      <td>85.232557</td>\n",
       "      <td>2017.820427</td>\n",
       "      <td>7.423653</td>\n",
       "      <td>15.596995</td>\n",
       "      <td>0.025637</td>\n",
       "      <td>0.023349</td>\n",
       "      <td>0.153411</td>\n",
       "      <td>103.423539</td>\n",
       "      <td>0.619655</td>\n",
       "    </tr>\n",
       "    <tr>\n",
       "      <th>std</th>\n",
       "      <td>0.518715</td>\n",
       "      <td>0.402648</td>\n",
       "      <td>0.870644</td>\n",
       "      <td>1.410905</td>\n",
       "      <td>0.173281</td>\n",
       "      <td>85.930817</td>\n",
       "      <td>0.383836</td>\n",
       "      <td>3.069894</td>\n",
       "      <td>8.740447</td>\n",
       "      <td>0.158053</td>\n",
       "      <td>0.368331</td>\n",
       "      <td>1.754171</td>\n",
       "      <td>35.089424</td>\n",
       "      <td>0.786236</td>\n",
       "    </tr>\n",
       "    <tr>\n",
       "      <th>min</th>\n",
       "      <td>0.000000</td>\n",
       "      <td>0.000000</td>\n",
       "      <td>0.000000</td>\n",
       "      <td>0.000000</td>\n",
       "      <td>0.000000</td>\n",
       "      <td>0.000000</td>\n",
       "      <td>2017.000000</td>\n",
       "      <td>1.000000</td>\n",
       "      <td>1.000000</td>\n",
       "      <td>0.000000</td>\n",
       "      <td>0.000000</td>\n",
       "      <td>0.000000</td>\n",
       "      <td>0.000000</td>\n",
       "      <td>0.000000</td>\n",
       "    </tr>\n",
       "    <tr>\n",
       "      <th>25%</th>\n",
       "      <td>2.000000</td>\n",
       "      <td>0.000000</td>\n",
       "      <td>0.000000</td>\n",
       "      <td>1.000000</td>\n",
       "      <td>0.000000</td>\n",
       "      <td>17.000000</td>\n",
       "      <td>2018.000000</td>\n",
       "      <td>5.000000</td>\n",
       "      <td>8.000000</td>\n",
       "      <td>0.000000</td>\n",
       "      <td>0.000000</td>\n",
       "      <td>0.000000</td>\n",
       "      <td>80.300000</td>\n",
       "      <td>0.000000</td>\n",
       "    </tr>\n",
       "    <tr>\n",
       "      <th>50%</th>\n",
       "      <td>2.000000</td>\n",
       "      <td>0.000000</td>\n",
       "      <td>1.000000</td>\n",
       "      <td>2.000000</td>\n",
       "      <td>0.000000</td>\n",
       "      <td>57.000000</td>\n",
       "      <td>2018.000000</td>\n",
       "      <td>8.000000</td>\n",
       "      <td>16.000000</td>\n",
       "      <td>0.000000</td>\n",
       "      <td>0.000000</td>\n",
       "      <td>0.000000</td>\n",
       "      <td>99.450000</td>\n",
       "      <td>0.000000</td>\n",
       "    </tr>\n",
       "    <tr>\n",
       "      <th>75%</th>\n",
       "      <td>2.000000</td>\n",
       "      <td>0.000000</td>\n",
       "      <td>2.000000</td>\n",
       "      <td>3.000000</td>\n",
       "      <td>0.000000</td>\n",
       "      <td>126.000000</td>\n",
       "      <td>2018.000000</td>\n",
       "      <td>10.000000</td>\n",
       "      <td>23.000000</td>\n",
       "      <td>0.000000</td>\n",
       "      <td>0.000000</td>\n",
       "      <td>0.000000</td>\n",
       "      <td>120.000000</td>\n",
       "      <td>1.000000</td>\n",
       "    </tr>\n",
       "    <tr>\n",
       "      <th>max</th>\n",
       "      <td>4.000000</td>\n",
       "      <td>10.000000</td>\n",
       "      <td>7.000000</td>\n",
       "      <td>17.000000</td>\n",
       "      <td>1.000000</td>\n",
       "      <td>443.000000</td>\n",
       "      <td>2018.000000</td>\n",
       "      <td>12.000000</td>\n",
       "      <td>31.000000</td>\n",
       "      <td>1.000000</td>\n",
       "      <td>13.000000</td>\n",
       "      <td>58.000000</td>\n",
       "      <td>540.000000</td>\n",
       "      <td>5.000000</td>\n",
       "    </tr>\n",
       "  </tbody>\n",
       "</table>\n",
       "</div>"
      ],
      "text/plain": [
       "       no_of_adults  no_of_children  no_of_weekend_nights  no_of_week_nights  \\\n",
       "count  36275.000000    36275.000000          36275.000000       36275.000000   \n",
       "mean       1.844962        0.105279              0.810724           2.204300   \n",
       "std        0.518715        0.402648              0.870644           1.410905   \n",
       "min        0.000000        0.000000              0.000000           0.000000   \n",
       "25%        2.000000        0.000000              0.000000           1.000000   \n",
       "50%        2.000000        0.000000              1.000000           2.000000   \n",
       "75%        2.000000        0.000000              2.000000           3.000000   \n",
       "max        4.000000       10.000000              7.000000          17.000000   \n",
       "\n",
       "       required_car_parking_space     lead_time  arrival_year  arrival_month  \\\n",
       "count                36275.000000  36275.000000  36275.000000   36275.000000   \n",
       "mean                     0.030986     85.232557   2017.820427       7.423653   \n",
       "std                      0.173281     85.930817      0.383836       3.069894   \n",
       "min                      0.000000      0.000000   2017.000000       1.000000   \n",
       "25%                      0.000000     17.000000   2018.000000       5.000000   \n",
       "50%                      0.000000     57.000000   2018.000000       8.000000   \n",
       "75%                      0.000000    126.000000   2018.000000      10.000000   \n",
       "max                      1.000000    443.000000   2018.000000      12.000000   \n",
       "\n",
       "       arrival_date  repeated_guest  no_of_previous_cancellations  \\\n",
       "count  36275.000000    36275.000000                  36275.000000   \n",
       "mean      15.596995        0.025637                      0.023349   \n",
       "std        8.740447        0.158053                      0.368331   \n",
       "min        1.000000        0.000000                      0.000000   \n",
       "25%        8.000000        0.000000                      0.000000   \n",
       "50%       16.000000        0.000000                      0.000000   \n",
       "75%       23.000000        0.000000                      0.000000   \n",
       "max       31.000000        1.000000                     13.000000   \n",
       "\n",
       "       no_of_previous_bookings_not_canceled  avg_price_per_room  \\\n",
       "count                          36275.000000        36275.000000   \n",
       "mean                               0.153411          103.423539   \n",
       "std                                1.754171           35.089424   \n",
       "min                                0.000000            0.000000   \n",
       "25%                                0.000000           80.300000   \n",
       "50%                                0.000000           99.450000   \n",
       "75%                                0.000000          120.000000   \n",
       "max                               58.000000          540.000000   \n",
       "\n",
       "       no_of_special_requests  \n",
       "count            36275.000000  \n",
       "mean                 0.619655  \n",
       "std                  0.786236  \n",
       "min                  0.000000  \n",
       "25%                  0.000000  \n",
       "50%                  0.000000  \n",
       "75%                  1.000000  \n",
       "max                  5.000000  "
      ]
     },
     "execution_count": 7,
     "metadata": {},
     "output_type": "execute_result"
    }
   ],
   "source": [
    "df.describe()"
   ]
  },
  {
   "cell_type": "code",
   "execution_count": 8,
   "id": "51805efb",
   "metadata": {
    "execution": {
     "iopub.execute_input": "2023-03-09T10:49:29.913018Z",
     "iopub.status.busy": "2023-03-09T10:49:29.912607Z",
     "iopub.status.idle": "2023-03-09T10:49:29.932053Z",
     "shell.execute_reply": "2023-03-09T10:49:29.930887Z"
    },
    "papermill": {
     "duration": 0.033709,
     "end_time": "2023-03-09T10:49:29.934415",
     "exception": false,
     "start_time": "2023-03-09T10:49:29.900706",
     "status": "completed"
    },
    "tags": []
   },
   "outputs": [
    {
     "data": {
      "text/plain": [
       "Booking_ID                              0\n",
       "no_of_adults                            0\n",
       "no_of_children                          0\n",
       "no_of_weekend_nights                    0\n",
       "no_of_week_nights                       0\n",
       "type_of_meal_plan                       0\n",
       "required_car_parking_space              0\n",
       "room_type_reserved                      0\n",
       "lead_time                               0\n",
       "arrival_year                            0\n",
       "arrival_month                           0\n",
       "arrival_date                            0\n",
       "market_segment_type                     0\n",
       "repeated_guest                          0\n",
       "no_of_previous_cancellations            0\n",
       "no_of_previous_bookings_not_canceled    0\n",
       "avg_price_per_room                      0\n",
       "no_of_special_requests                  0\n",
       "booking_status                          0\n",
       "dtype: int64"
      ]
     },
     "execution_count": 8,
     "metadata": {},
     "output_type": "execute_result"
    }
   ],
   "source": [
    "#checking the null value if available \n",
    "df.isnull().sum()"
   ]
  },
  {
   "cell_type": "code",
   "execution_count": 9,
   "id": "f74b2a31",
   "metadata": {
    "execution": {
     "iopub.execute_input": "2023-03-09T10:49:29.957533Z",
     "iopub.status.busy": "2023-03-09T10:49:29.957084Z",
     "iopub.status.idle": "2023-03-09T10:49:29.998169Z",
     "shell.execute_reply": "2023-03-09T10:49:29.997003Z"
    },
    "papermill": {
     "duration": 0.055852,
     "end_time": "2023-03-09T10:49:30.000720",
     "exception": false,
     "start_time": "2023-03-09T10:49:29.944868",
     "status": "completed"
    },
    "tags": []
   },
   "outputs": [
    {
     "data": {
      "text/plain": [
       "0"
      ]
     },
     "execution_count": 9,
     "metadata": {},
     "output_type": "execute_result"
    }
   ],
   "source": [
    "#aging checking any duplicate valuse available or not\n",
    "df.duplicated().sum()"
   ]
  },
  {
   "cell_type": "code",
   "execution_count": 10,
   "id": "ff2d75d3",
   "metadata": {
    "execution": {
     "iopub.execute_input": "2023-03-09T10:49:30.024042Z",
     "iopub.status.busy": "2023-03-09T10:49:30.023615Z",
     "iopub.status.idle": "2023-03-09T10:49:30.177567Z",
     "shell.execute_reply": "2023-03-09T10:49:30.175981Z"
    },
    "papermill": {
     "duration": 0.173783,
     "end_time": "2023-03-09T10:49:30.185510",
     "exception": false,
     "start_time": "2023-03-09T10:49:30.011727",
     "status": "completed"
    },
    "tags": []
   },
   "outputs": [
    {
     "data": {
      "image/png": "[encoded data removed]",
      "text/plain": [
       "<Figure size 432x288 with 1 Axes>"
      ]
     },
     "metadata": {
      "needs_background": "light"
     },
     "output_type": "display_data"
    }
   ],
   "source": [
    "# with the help of boxplot we are identify is any outliers\n",
    "plt.boxplot(df[\"avg_price_per_room\"])\n",
    "\n",
    "# Add a title and labels for the X and Y axes\n",
    "plt.title('Box plot of your data')\n",
    "plt.xlabel('Data series')\n",
    "plt.ylabel('Values')\n",
    "\n",
    "# Show the plot\n",
    "plt.show()"
   ]
  },
  {
   "cell_type": "code",
   "execution_count": 11,
   "id": "434e372a",
   "metadata": {
    "execution": {
     "iopub.execute_input": "2023-03-09T10:49:30.209142Z",
     "iopub.status.busy": "2023-03-09T10:49:30.208744Z",
     "iopub.status.idle": "2023-03-09T10:49:30.215037Z",
     "shell.execute_reply": "2023-03-09T10:49:30.213781Z"
    },
    "papermill": {
     "duration": 0.020768,
     "end_time": "2023-03-09T10:49:30.217394",
     "exception": false,
     "start_time": "2023-03-09T10:49:30.196626",
     "status": "completed"
    },
    "tags": []
   },
   "outputs": [],
   "source": [
    "# in box plot we have seen outliers are more so we are just making a fuction for handle outliers \n",
    "def removeoutlier(col):\n",
    "    sorted(col)\n",
    "    qu1, qu2=col.quantile([0.25,0.75])\n",
    "    IQR=qu2-qu1\n",
    "    lr=qu1-(1.5*IQR)\n",
    "    ur=qu2+(1.5*IQR)\n",
    "    return lr,ur"
   ]
  },
  {
   "cell_type": "code",
   "execution_count": 12,
   "id": "68c42ad7",
   "metadata": {
    "execution": {
     "iopub.execute_input": "2023-03-09T10:49:30.241309Z",
     "iopub.status.busy": "2023-03-09T10:49:30.240472Z",
     "iopub.status.idle": "2023-03-09T10:49:30.261528Z",
     "shell.execute_reply": "2023-03-09T10:49:30.260213Z"
    },
    "papermill": {
     "duration": 0.036281,
     "end_time": "2023-03-09T10:49:30.264291",
     "exception": false,
     "start_time": "2023-03-09T10:49:30.228010",
     "status": "completed"
    },
    "tags": []
   },
   "outputs": [],
   "source": [
    "# we are using the fuction and filling the value  with the help of IQR \n",
    "lowscore,highscore=removeoutlier(df[\"avg_price_per_room\"])\n",
    "df[\"avg_price_per_room\"]=np.where(df[\"avg_price_per_room\"]>highscore,highscore,df[\"avg_price_per_room\"])\n",
    "df[\"avg_price_per_room\"]=np.where(df[\"avg_price_per_room\"]<lowscore,lowscore,df[\"avg_price_per_room\"])"
   ]
  },
  {
   "cell_type": "code",
   "execution_count": 13,
   "id": "6ba60ed1",
   "metadata": {
    "execution": {
     "iopub.execute_input": "2023-03-09T10:49:30.288105Z",
     "iopub.status.busy": "2023-03-09T10:49:30.287709Z",
     "iopub.status.idle": "2023-03-09T10:49:30.517081Z",
     "shell.execute_reply": "2023-03-09T10:49:30.515943Z"
    },
    "papermill": {
     "duration": 0.244209,
     "end_time": "2023-03-09T10:49:30.519508",
     "exception": false,
     "start_time": "2023-03-09T10:49:30.275299",
     "status": "completed"
    },
    "tags": []
   },
   "outputs": [
    {
     "data": {
      "image/png": "[encoded data removed]",
      "text/plain": [
       "<Figure size 432x288 with 1 Axes>"
      ]
     },
     "metadata": {
      "needs_background": "light"
     },
     "output_type": "display_data"
    }
   ],
   "source": [
    "# now we have no any outliers we removed with the help of IQR\n",
    "df.boxplot(column=[\"avg_price_per_room\"])\n",
    "plt.show()"
   ]
  },
  {
   "cell_type": "code",
   "execution_count": 14,
   "id": "19a46886",
   "metadata": {
    "execution": {
     "iopub.execute_input": "2023-03-09T10:49:30.542702Z",
     "iopub.status.busy": "2023-03-09T10:49:30.542278Z",
     "iopub.status.idle": "2023-03-09T10:49:30.606739Z",
     "shell.execute_reply": "2023-03-09T10:49:30.605592Z"
    },
    "papermill": {
     "duration": 0.078891,
     "end_time": "2023-03-09T10:49:30.609224",
     "exception": false,
     "start_time": "2023-03-09T10:49:30.530333",
     "status": "completed"
    },
    "tags": []
   },
   "outputs": [
    {
     "data": {
      "text/html": [
       "<div>\n",
       "<style scoped>\n",
       "    .dataframe tbody tr th:only-of-type {\n",
       "        vertical-align: middle;\n",
       "    }\n",
       "\n",
       "    .dataframe tbody tr th {\n",
       "        vertical-align: top;\n",
       "    }\n",
       "\n",
       "    .dataframe thead th {\n",
       "        text-align: right;\n",
       "    }\n",
       "</style>\n",
       "<table border=\"1\" class=\"dataframe\">\n",
       "  <thead>\n",
       "    <tr style=\"text-align: right;\">\n",
       "      <th></th>\n",
       "      <th>no_of_adults</th>\n",
       "      <th>no_of_children</th>\n",
       "      <th>no_of_weekend_nights</th>\n",
       "      <th>no_of_week_nights</th>\n",
       "      <th>required_car_parking_space</th>\n",
       "      <th>lead_time</th>\n",
       "      <th>arrival_year</th>\n",
       "      <th>arrival_month</th>\n",
       "      <th>arrival_date</th>\n",
       "      <th>repeated_guest</th>\n",
       "      <th>no_of_previous_cancellations</th>\n",
       "      <th>no_of_previous_bookings_not_canceled</th>\n",
       "      <th>avg_price_per_room</th>\n",
       "      <th>no_of_special_requests</th>\n",
       "    </tr>\n",
       "  </thead>\n",
       "  <tbody>\n",
       "    <tr>\n",
       "      <th>count</th>\n",
       "      <td>36275.000000</td>\n",
       "      <td>36275.000000</td>\n",
       "      <td>36275.000000</td>\n",
       "      <td>36275.000000</td>\n",
       "      <td>36275.000000</td>\n",
       "      <td>36275.000000</td>\n",
       "      <td>36275.000000</td>\n",
       "      <td>36275.000000</td>\n",
       "      <td>36275.000000</td>\n",
       "      <td>36275.000000</td>\n",
       "      <td>36275.000000</td>\n",
       "      <td>36275.000000</td>\n",
       "      <td>36275.000000</td>\n",
       "      <td>36275.000000</td>\n",
       "    </tr>\n",
       "    <tr>\n",
       "      <th>mean</th>\n",
       "      <td>1.844962</td>\n",
       "      <td>0.105279</td>\n",
       "      <td>0.810724</td>\n",
       "      <td>2.204300</td>\n",
       "      <td>0.030986</td>\n",
       "      <td>85.232557</td>\n",
       "      <td>2017.820427</td>\n",
       "      <td>7.423653</td>\n",
       "      <td>15.596995</td>\n",
       "      <td>0.025637</td>\n",
       "      <td>0.023349</td>\n",
       "      <td>0.153411</td>\n",
       "      <td>102.970177</td>\n",
       "      <td>0.619655</td>\n",
       "    </tr>\n",
       "    <tr>\n",
       "      <th>std</th>\n",
       "      <td>0.518715</td>\n",
       "      <td>0.402648</td>\n",
       "      <td>0.870644</td>\n",
       "      <td>1.410905</td>\n",
       "      <td>0.173281</td>\n",
       "      <td>85.930817</td>\n",
       "      <td>0.383836</td>\n",
       "      <td>3.069894</td>\n",
       "      <td>8.740447</td>\n",
       "      <td>0.158053</td>\n",
       "      <td>0.368331</td>\n",
       "      <td>1.754171</td>\n",
       "      <td>31.681213</td>\n",
       "      <td>0.786236</td>\n",
       "    </tr>\n",
       "    <tr>\n",
       "      <th>min</th>\n",
       "      <td>0.000000</td>\n",
       "      <td>0.000000</td>\n",
       "      <td>0.000000</td>\n",
       "      <td>0.000000</td>\n",
       "      <td>0.000000</td>\n",
       "      <td>0.000000</td>\n",
       "      <td>2017.000000</td>\n",
       "      <td>1.000000</td>\n",
       "      <td>1.000000</td>\n",
       "      <td>0.000000</td>\n",
       "      <td>0.000000</td>\n",
       "      <td>0.000000</td>\n",
       "      <td>20.750000</td>\n",
       "      <td>0.000000</td>\n",
       "    </tr>\n",
       "    <tr>\n",
       "      <th>25%</th>\n",
       "      <td>2.000000</td>\n",
       "      <td>0.000000</td>\n",
       "      <td>0.000000</td>\n",
       "      <td>1.000000</td>\n",
       "      <td>0.000000</td>\n",
       "      <td>17.000000</td>\n",
       "      <td>2018.000000</td>\n",
       "      <td>5.000000</td>\n",
       "      <td>8.000000</td>\n",
       "      <td>0.000000</td>\n",
       "      <td>0.000000</td>\n",
       "      <td>0.000000</td>\n",
       "      <td>80.300000</td>\n",
       "      <td>0.000000</td>\n",
       "    </tr>\n",
       "    <tr>\n",
       "      <th>50%</th>\n",
       "      <td>2.000000</td>\n",
       "      <td>0.000000</td>\n",
       "      <td>1.000000</td>\n",
       "      <td>2.000000</td>\n",
       "      <td>0.000000</td>\n",
       "      <td>57.000000</td>\n",
       "      <td>2018.000000</td>\n",
       "      <td>8.000000</td>\n",
       "      <td>16.000000</td>\n",
       "      <td>0.000000</td>\n",
       "      <td>0.000000</td>\n",
       "      <td>0.000000</td>\n",
       "      <td>99.450000</td>\n",
       "      <td>0.000000</td>\n",
       "    </tr>\n",
       "    <tr>\n",
       "      <th>75%</th>\n",
       "      <td>2.000000</td>\n",
       "      <td>0.000000</td>\n",
       "      <td>2.000000</td>\n",
       "      <td>3.000000</td>\n",
       "      <td>0.000000</td>\n",
       "      <td>126.000000</td>\n",
       "      <td>2018.000000</td>\n",
       "      <td>10.000000</td>\n",
       "      <td>23.000000</td>\n",
       "      <td>0.000000</td>\n",
       "      <td>0.000000</td>\n",
       "      <td>0.000000</td>\n",
       "      <td>120.000000</td>\n",
       "      <td>1.000000</td>\n",
       "    </tr>\n",
       "    <tr>\n",
       "      <th>max</th>\n",
       "      <td>4.000000</td>\n",
       "      <td>10.000000</td>\n",
       "      <td>7.000000</td>\n",
       "      <td>17.000000</td>\n",
       "      <td>1.000000</td>\n",
       "      <td>443.000000</td>\n",
       "      <td>2018.000000</td>\n",
       "      <td>12.000000</td>\n",
       "      <td>31.000000</td>\n",
       "      <td>1.000000</td>\n",
       "      <td>13.000000</td>\n",
       "      <td>58.000000</td>\n",
       "      <td>179.550000</td>\n",
       "      <td>5.000000</td>\n",
       "    </tr>\n",
       "  </tbody>\n",
       "</table>\n",
       "</div>"
      ],
      "text/plain": [
       "       no_of_adults  no_of_children  no_of_weekend_nights  no_of_week_nights  \\\n",
       "count  36275.000000    36275.000000          36275.000000       36275.000000   \n",
       "mean       1.844962        0.105279              0.810724           2.204300   \n",
       "std        0.518715        0.402648              0.870644           1.410905   \n",
       "min        0.000000        0.000000              0.000000           0.000000   \n",
       "25%        2.000000        0.000000              0.000000           1.000000   \n",
       "50%        2.000000        0.000000              1.000000           2.000000   \n",
       "75%        2.000000        0.000000              2.000000           3.000000   \n",
       "max        4.000000       10.000000              7.000000          17.000000   \n",
       "\n",
       "       required_car_parking_space     lead_time  arrival_year  arrival_month  \\\n",
       "count                36275.000000  36275.000000  36275.000000   36275.000000   \n",
       "mean                     0.030986     85.232557   2017.820427       7.423653   \n",
       "std                      0.173281     85.930817      0.383836       3.069894   \n",
       "min                      0.000000      0.000000   2017.000000       1.000000   \n",
       "25%                      0.000000     17.000000   2018.000000       5.000000   \n",
       "50%                      0.000000     57.000000   2018.000000       8.000000   \n",
       "75%                      0.000000    126.000000   2018.000000      10.000000   \n",
       "max                      1.000000    443.000000   2018.000000      12.000000   \n",
       "\n",
       "       arrival_date  repeated_guest  no_of_previous_cancellations  \\\n",
       "count  36275.000000    36275.000000                  36275.000000   \n",
       "mean      15.596995        0.025637                      0.023349   \n",
       "std        8.740447        0.158053                      0.368331   \n",
       "min        1.000000        0.000000                      0.000000   \n",
       "25%        8.000000        0.000000                      0.000000   \n",
       "50%       16.000000        0.000000                      0.000000   \n",
       "75%       23.000000        0.000000                      0.000000   \n",
       "max       31.000000        1.000000                     13.000000   \n",
       "\n",
       "       no_of_previous_bookings_not_canceled  avg_price_per_room  \\\n",
       "count                          36275.000000        36275.000000   \n",
       "mean                               0.153411          102.970177   \n",
       "std                                1.754171           31.681213   \n",
       "min                                0.000000           20.750000   \n",
       "25%                                0.000000           80.300000   \n",
       "50%                                0.000000           99.450000   \n",
       "75%                                0.000000          120.000000   \n",
       "max                               58.000000          179.550000   \n",
       "\n",
       "       no_of_special_requests  \n",
       "count            36275.000000  \n",
       "mean                 0.619655  \n",
       "std                  0.786236  \n",
       "min                  0.000000  \n",
       "25%                  0.000000  \n",
       "50%                  0.000000  \n",
       "75%                  1.000000  \n",
       "max                  5.000000  "
      ]
     },
     "execution_count": 14,
     "metadata": {},
     "output_type": "execute_result"
    }
   ],
   "source": [
    "# now  again we will check describe of data \n",
    "df.describe()"
   ]
  },
  {
   "cell_type": "code",
   "execution_count": 15,
   "id": "62aba3b5",
   "metadata": {
    "execution": {
     "iopub.execute_input": "2023-03-09T10:49:30.633531Z",
     "iopub.status.busy": "2023-03-09T10:49:30.633090Z",
     "iopub.status.idle": "2023-03-09T10:49:30.640799Z",
     "shell.execute_reply": "2023-03-09T10:49:30.639580Z"
    },
    "papermill": {
     "duration": 0.022767,
     "end_time": "2023-03-09T10:49:30.643222",
     "exception": false,
     "start_time": "2023-03-09T10:49:30.620455",
     "status": "completed"
    },
    "tags": []
   },
   "outputs": [],
   "source": [
    "#check the booking status counts\n",
    "c=df[\"booking_status\"].value_counts()"
   ]
  },
  {
   "cell_type": "code",
   "execution_count": 16,
   "id": "14ba803e",
   "metadata": {
    "execution": {
     "iopub.execute_input": "2023-03-09T10:49:30.668027Z",
     "iopub.status.busy": "2023-03-09T10:49:30.667174Z",
     "iopub.status.idle": "2023-03-09T10:49:30.676109Z",
     "shell.execute_reply": "2023-03-09T10:49:30.675235Z"
    },
    "papermill": {
     "duration": 0.023858,
     "end_time": "2023-03-09T10:49:30.678411",
     "exception": false,
     "start_time": "2023-03-09T10:49:30.654553",
     "status": "completed"
    },
    "tags": []
   },
   "outputs": [
    {
     "data": {
      "text/plain": [
       "Not_Canceled    67.236389\n",
       "Canceled        32.763611\n",
       "Name: booking_status, dtype: float64"
      ]
     },
     "execution_count": 16,
     "metadata": {},
     "output_type": "execute_result"
    }
   ],
   "source": [
    "#calculate the cancelation rate\n",
    "d=c.sum()\n",
    "c*100/d\n"
   ]
  },
  {
   "cell_type": "code",
   "execution_count": 17,
   "id": "64692a1d",
   "metadata": {
    "execution": {
     "iopub.execute_input": "2023-03-09T10:49:30.703263Z",
     "iopub.status.busy": "2023-03-09T10:49:30.702434Z",
     "iopub.status.idle": "2023-03-09T10:49:30.710360Z",
     "shell.execute_reply": "2023-03-09T10:49:30.709411Z"
    },
    "papermill": {
     "duration": 0.022984,
     "end_time": "2023-03-09T10:49:30.712667",
     "exception": false,
     "start_time": "2023-03-09T10:49:30.689683",
     "status": "completed"
    },
    "tags": []
   },
   "outputs": [
    {
     "data": {
      "text/plain": [
       "3735243.1700000004"
      ]
     },
     "execution_count": 17,
     "metadata": {},
     "output_type": "execute_result"
    }
   ],
   "source": [
    "df[\"avg_price_per_room\"].sum()"
   ]
  },
  {
   "cell_type": "code",
   "execution_count": 18,
   "id": "babd5952",
   "metadata": {
    "execution": {
     "iopub.execute_input": "2023-03-09T10:49:30.737594Z",
     "iopub.status.busy": "2023-03-09T10:49:30.736775Z",
     "iopub.status.idle": "2023-03-09T10:49:30.754235Z",
     "shell.execute_reply": "2023-03-09T10:49:30.753058Z"
    },
    "papermill": {
     "duration": 0.032573,
     "end_time": "2023-03-09T10:49:30.756609",
     "exception": false,
     "start_time": "2023-03-09T10:49:30.724036",
     "status": "completed"
    },
    "tags": []
   },
   "outputs": [
    {
     "data": {
      "text/plain": [
       "booking_status  market_segment_type\n",
       "Canceled        Aviation                  37\n",
       "                Corporate                220\n",
       "                Offline                 3153\n",
       "                Online                  8475\n",
       "Not_Canceled    Aviation                  88\n",
       "                Complementary            391\n",
       "                Corporate               1797\n",
       "                Offline                 7375\n",
       "                Online                 14739\n",
       "dtype: int64"
      ]
     },
     "execution_count": 18,
     "metadata": {},
     "output_type": "execute_result"
    }
   ],
   "source": [
    "# with the help of groupby function we group market sagment type and booking status\n",
    "df.groupby([\"booking_status\",\"market_segment_type\"]).size()"
   ]
  },
  {
   "cell_type": "code",
   "execution_count": 19,
   "id": "380d9803",
   "metadata": {
    "execution": {
     "iopub.execute_input": "2023-03-09T10:49:30.782033Z",
     "iopub.status.busy": "2023-03-09T10:49:30.781210Z",
     "iopub.status.idle": "2023-03-09T10:49:30.791618Z",
     "shell.execute_reply": "2023-03-09T10:49:30.790677Z"
    },
    "papermill": {
     "duration": 0.025767,
     "end_time": "2023-03-09T10:49:30.793921",
     "exception": false,
     "start_time": "2023-03-09T10:49:30.768154",
     "status": "completed"
    },
    "tags": []
   },
   "outputs": [
    {
     "data": {
      "text/plain": [
       "Online           23214\n",
       "Offline          10528\n",
       "Corporate         2017\n",
       "Complementary      391\n",
       "Aviation           125\n",
       "Name: market_segment_type, dtype: int64"
      ]
     },
     "execution_count": 19,
     "metadata": {},
     "output_type": "execute_result"
    }
   ],
   "source": [
    "df[\"market_segment_type\"].value_counts()"
   ]
  },
  {
   "cell_type": "code",
   "execution_count": 20,
   "id": "28abb686",
   "metadata": {
    "execution": {
     "iopub.execute_input": "2023-03-09T10:49:30.819490Z",
     "iopub.status.busy": "2023-03-09T10:49:30.818685Z",
     "iopub.status.idle": "2023-03-09T10:49:30.827506Z",
     "shell.execute_reply": "2023-03-09T10:49:30.826535Z"
    },
    "papermill": {
     "duration": 0.024388,
     "end_time": "2023-03-09T10:49:30.830051",
     "exception": false,
     "start_time": "2023-03-09T10:49:30.805663",
     "status": "completed"
    },
    "tags": []
   },
   "outputs": [
    {
     "data": {
      "text/plain": [
       "0    35345\n",
       "1      930\n",
       "Name: repeated_guest, dtype: int64"
      ]
     },
     "execution_count": 20,
     "metadata": {},
     "output_type": "execute_result"
    }
   ],
   "source": [
    "# we check how many repeated gust 1 for repeated and 0 for not repeated \n",
    "df[\"repeated_guest\"].value_counts()"
   ]
  },
  {
   "cell_type": "code",
   "execution_count": 21,
   "id": "c8b06a73",
   "metadata": {
    "execution": {
     "iopub.execute_input": "2023-03-09T10:49:30.856262Z",
     "iopub.status.busy": "2023-03-09T10:49:30.855418Z",
     "iopub.status.idle": "2023-03-09T10:49:30.866294Z",
     "shell.execute_reply": "2023-03-09T10:49:30.864654Z"
    },
    "papermill": {
     "duration": 0.026585,
     "end_time": "2023-03-09T10:49:30.868657",
     "exception": false,
     "start_time": "2023-03-09T10:49:30.842072",
     "status": "completed"
    },
    "tags": []
   },
   "outputs": [
    {
     "name": "stdout",
     "output_type": "stream",
     "text": [
      "Total no of Adults are \n",
      "2    26108\n",
      "1     7695\n",
      "3     2317\n",
      "0      139\n",
      "4       16\n",
      "Name: no_of_adults, dtype: int64\n",
      "Total no of Chilfrens are\n",
      "0     33577\n",
      "1      1618\n",
      "2      1058\n",
      "3        19\n",
      "9         2\n",
      "10        1\n",
      "Name: no_of_children, dtype: int64\n"
     ]
    }
   ],
   "source": [
    "# we are checking adults and children \n",
    "a=df[\"no_of_adults\"].value_counts()\n",
    "b=df[\"no_of_children\"].value_counts()\n",
    "print(\"Total no of Adults are \")\n",
    "print(a)\n",
    "print(\"Total no of Chilfrens are\")\n",
    "print(b)"
   ]
  },
  {
   "cell_type": "code",
   "execution_count": 22,
   "id": "6a4bd63f",
   "metadata": {
    "execution": {
     "iopub.execute_input": "2023-03-09T10:49:30.895608Z",
     "iopub.status.busy": "2023-03-09T10:49:30.894234Z",
     "iopub.status.idle": "2023-03-09T10:49:30.904309Z",
     "shell.execute_reply": "2023-03-09T10:49:30.902999Z"
    },
    "papermill": {
     "duration": 0.026162,
     "end_time": "2023-03-09T10:49:30.906809",
     "exception": false,
     "start_time": "2023-03-09T10:49:30.880647",
     "status": "completed"
    },
    "tags": []
   },
   "outputs": [
    {
     "data": {
      "text/plain": [
       "0    16872\n",
       "1     9995\n",
       "2     9071\n",
       "3      153\n",
       "4      129\n",
       "Name: no_of_weekend_nights, dtype: int64"
      ]
     },
     "execution_count": 22,
     "metadata": {},
     "output_type": "execute_result"
    }
   ],
   "source": [
    "x=df[\"no_of_weekend_nights\"].value_counts().head(5)\n",
    "x"
   ]
  },
  {
   "cell_type": "code",
   "execution_count": 23,
   "id": "9b6818b1",
   "metadata": {
    "execution": {
     "iopub.execute_input": "2023-03-09T10:49:30.932762Z",
     "iopub.status.busy": "2023-03-09T10:49:30.932310Z",
     "iopub.status.idle": "2023-03-09T10:49:30.941480Z",
     "shell.execute_reply": "2023-03-09T10:49:30.940399Z"
    },
    "papermill": {
     "duration": 0.024977,
     "end_time": "2023-03-09T10:49:30.943978",
     "exception": false,
     "start_time": "2023-03-09T10:49:30.919001",
     "status": "completed"
    },
    "tags": []
   },
   "outputs": [
    {
     "data": {
      "text/plain": [
       "2    11444\n",
       "1     9488\n",
       "3     7839\n",
       "4     2990\n",
       "0     2387\n",
       "Name: no_of_week_nights, dtype: int64"
      ]
     },
     "execution_count": 23,
     "metadata": {},
     "output_type": "execute_result"
    }
   ],
   "source": [
    "y=df[\"no_of_week_nights\"].value_counts().head(5)\n",
    "y"
   ]
  },
  {
   "cell_type": "code",
   "execution_count": 24,
   "id": "f9dbfbda",
   "metadata": {
    "execution": {
     "iopub.execute_input": "2023-03-09T10:49:30.970245Z",
     "iopub.status.busy": "2023-03-09T10:49:30.969804Z",
     "iopub.status.idle": "2023-03-09T10:49:31.379859Z",
     "shell.execute_reply": "2023-03-09T10:49:31.378533Z"
    },
    "papermill": {
     "duration": 0.425835,
     "end_time": "2023-03-09T10:49:31.382374",
     "exception": false,
     "start_time": "2023-03-09T10:49:30.956539",
     "status": "completed"
    },
    "tags": []
   },
   "outputs": [
    {
     "data": {
      "text/plain": [
       "<seaborn.axisgrid.FacetGrid at 0x7f8c31f8d0d0>"
      ]
     },
     "execution_count": 24,
     "metadata": {},
     "output_type": "execute_result"
    },
    {
     "data": {
      "image/png": "[encoded data removed]",
      "text/plain": [
       "<Figure size 842.4x595.44 with 1 Axes>"
      ]
     },
     "metadata": {
      "needs_background": "light"
     },
     "output_type": "display_data"
    }
   ],
   "source": [
    "# now we have  diffrent type of room  we  will check using catplot \n",
    "sns.catplot(data=df, x=\"room_type_reserved\", kind=\"count\", palette=\"ch:.25\",height=8.27, aspect=11.7/8.27)"
   ]
  },
  {
   "cell_type": "code",
   "execution_count": 25,
   "id": "224fe138",
   "metadata": {
    "execution": {
     "iopub.execute_input": "2023-03-09T10:49:31.409938Z",
     "iopub.status.busy": "2023-03-09T10:49:31.409521Z",
     "iopub.status.idle": "2023-03-09T10:49:31.782366Z",
     "shell.execute_reply": "2023-03-09T10:49:31.781077Z"
    },
    "papermill": {
     "duration": 0.389706,
     "end_time": "2023-03-09T10:49:31.785378",
     "exception": false,
     "start_time": "2023-03-09T10:49:31.395672",
     "status": "completed"
    },
    "tags": []
   },
   "outputs": [
    {
     "data": {
      "text/plain": [
       "<seaborn.axisgrid.FacetGrid at 0x7f8c32727750>"
      ]
     },
     "execution_count": 25,
     "metadata": {},
     "output_type": "execute_result"
    },
    {
     "data": {
      "image/png": "[encoded data removed]",
      "text/plain": [
       "<Figure size 504x504 with 1 Axes>"
      ]
     },
     "metadata": {
      "needs_background": "light"
     },
     "output_type": "display_data"
    }
   ],
   "source": [
    "# in this displot we  check how many booking in each month\n",
    "sns.displot(df, x=\"arrival_month\", binwidth=1,height=7)"
   ]
  },
  {
   "cell_type": "code",
   "execution_count": 26,
   "id": "edd7b147",
   "metadata": {
    "execution": {
     "iopub.execute_input": "2023-03-09T10:49:31.813906Z",
     "iopub.status.busy": "2023-03-09T10:49:31.813494Z",
     "iopub.status.idle": "2023-03-09T10:49:32.587335Z",
     "shell.execute_reply": "2023-03-09T10:49:32.586192Z"
    },
    "papermill": {
     "duration": 0.790844,
     "end_time": "2023-03-09T10:49:32.589702",
     "exception": false,
     "start_time": "2023-03-09T10:49:31.798858",
     "status": "completed"
    },
    "tags": []
   },
   "outputs": [
    {
     "data": {
      "text/plain": [
       "<seaborn.axisgrid.FacetGrid at 0x7f8c31e33690>"
      ]
     },
     "execution_count": 26,
     "metadata": {},
     "output_type": "execute_result"
    },
    {
     "data": {
      "image/png": "[encoded data removed]",
      "text/plain": [
       "<Figure size 608.75x504 with 1 Axes>"
      ]
     },
     "metadata": {
      "needs_background": "light"
     },
     "output_type": "display_data"
    }
   ],
   "source": [
    "# this is showing bookking status by month and year \n",
    "sns.catplot(data=df, x=\"arrival_year\", y=\"arrival_month\", hue=\"booking_status\", kind=\"violin\",height=7)"
   ]
  },
  {
   "cell_type": "code",
   "execution_count": 27,
   "id": "14b33009",
   "metadata": {
    "execution": {
     "iopub.execute_input": "2023-03-09T10:49:32.620270Z",
     "iopub.status.busy": "2023-03-09T10:49:32.619144Z",
     "iopub.status.idle": "2023-03-09T10:49:32.975472Z",
     "shell.execute_reply": "2023-03-09T10:49:32.974371Z"
    },
    "papermill": {
     "duration": 0.373973,
     "end_time": "2023-03-09T10:49:32.978175",
     "exception": false,
     "start_time": "2023-03-09T10:49:32.604202",
     "status": "completed"
    },
    "tags": []
   },
   "outputs": [
    {
     "data": {
      "text/plain": [
       "<seaborn.axisgrid.FacetGrid at 0x7f8c3189b790>"
      ]
     },
     "execution_count": 27,
     "metadata": {},
     "output_type": "execute_result"
    },
    {
     "data": {
      "image/png": "[encoded data removed]",
      "text/plain": [
       "<Figure size 595.44x595.44 with 1 Axes>"
      ]
     },
     "metadata": {
      "needs_background": "light"
     },
     "output_type": "display_data"
    }
   ],
   "source": [
    "# we are checking booking status \n",
    "sns.catplot(data=df, x=\"booking_status\", kind=\"count\", palette=\"ch:.25\",height=8.27)"
   ]
  },
  {
   "cell_type": "code",
   "execution_count": 28,
   "id": "9d99c558",
   "metadata": {
    "execution": {
     "iopub.execute_input": "2023-03-09T10:49:33.008756Z",
     "iopub.status.busy": "2023-03-09T10:49:33.008321Z",
     "iopub.status.idle": "2023-03-09T10:49:33.015500Z",
     "shell.execute_reply": "2023-03-09T10:49:33.014413Z"
    },
    "papermill": {
     "duration": 0.025108,
     "end_time": "2023-03-09T10:49:33.017722",
     "exception": false,
     "start_time": "2023-03-09T10:49:32.992614",
     "status": "completed"
    },
    "tags": []
   },
   "outputs": [
    {
     "data": {
      "text/plain": [
       "Index(['Booking_ID', 'no_of_adults', 'no_of_children', 'no_of_weekend_nights',\n",
       "       'no_of_week_nights', 'type_of_meal_plan', 'required_car_parking_space',\n",
       "       'room_type_reserved', 'lead_time', 'arrival_year', 'arrival_month',\n",
       "       'arrival_date', 'market_segment_type', 'repeated_guest',\n",
       "       'no_of_previous_cancellations', 'no_of_previous_bookings_not_canceled',\n",
       "       'avg_price_per_room', 'no_of_special_requests', 'booking_status'],\n",
       "      dtype='object')"
      ]
     },
     "execution_count": 28,
     "metadata": {},
     "output_type": "execute_result"
    }
   ],
   "source": [
    "df.columns"
   ]
  },
  {
   "cell_type": "code",
   "execution_count": 29,
   "id": "bf846bc2",
   "metadata": {
    "execution": {
     "iopub.execute_input": "2023-03-09T10:49:33.047195Z",
     "iopub.status.busy": "2023-03-09T10:49:33.046754Z",
     "iopub.status.idle": "2023-03-09T10:49:33.418870Z",
     "shell.execute_reply": "2023-03-09T10:49:33.417951Z"
    },
    "papermill": {
     "duration": 0.389529,
     "end_time": "2023-03-09T10:49:33.421077",
     "exception": false,
     "start_time": "2023-03-09T10:49:33.031548",
     "status": "completed"
    },
    "tags": []
   },
   "outputs": [
    {
     "data": {
      "text/plain": [
       "<seaborn.axisgrid.FacetGrid at 0x7f8c31d66150>"
      ]
     },
     "execution_count": 29,
     "metadata": {},
     "output_type": "execute_result"
    },
    {
     "data": {
      "image/png": "[encoded data removed]",
      "text/plain": [
       "<Figure size 595.44x595.44 with 1 Axes>"
      ]
     },
     "metadata": {
      "needs_background": "light"
     },
     "output_type": "display_data"
    }
   ],
   "source": [
    "#here is meal plan what meal plan pepole likes\n",
    "sns.catplot(data=df, x=\"type_of_meal_plan\", kind=\"count\", palette=\"ch:.25\",height=8.27)"
   ]
  },
  {
   "cell_type": "code",
   "execution_count": 30,
   "id": "a0c1ac25",
   "metadata": {
    "execution": {
     "iopub.execute_input": "2023-03-09T10:49:33.453505Z",
     "iopub.status.busy": "2023-03-09T10:49:33.452716Z",
     "iopub.status.idle": "2023-03-09T10:49:37.101802Z",
     "shell.execute_reply": "2023-03-09T10:49:37.100591Z"
    },
    "papermill": {
     "duration": 3.668303,
     "end_time": "2023-03-09T10:49:37.104215",
     "exception": false,
     "start_time": "2023-03-09T10:49:33.435912",
     "status": "completed"
    },
    "tags": []
   },
   "outputs": [
    {
     "data": {
      "text/plain": [
       "<seaborn.axisgrid.JointGrid at 0x7f8c31d30710>"
      ]
     },
     "execution_count": 30,
     "metadata": {},
     "output_type": "execute_result"
    },
    {
     "data": {
      "image/png": "[encoded data removed]",
      "text/plain": [
       "<Figure size 576x576 with 3 Axes>"
      ]
     },
     "metadata": {
      "needs_background": "light"
     },
     "output_type": "display_data"
    }
   ],
   "source": [
    "# here is jointplot which is showing avg price of room by arrival months\n",
    "sns.jointplot(x=\"arrival_month\", y=\"avg_price_per_room\", data=df, kind=\"reg\",height=8)\n"
   ]
  },
  {
   "cell_type": "markdown",
   "id": "e6eb96d5",
   "metadata": {
    "papermill": {
     "duration": 0.016421,
     "end_time": "2023-03-09T10:49:37.136717",
     "exception": false,
     "start_time": "2023-03-09T10:49:37.120296",
     "status": "completed"
    },
    "tags": []
   },
   "source": [
    "# **Summary**"
   ]
  },
  {
   "cell_type": "markdown",
   "id": "47ef34ce",
   "metadata": {
    "papermill": {
     "duration": 0.015083,
     "end_time": "2023-03-09T10:49:37.166881",
     "exception": false,
     "start_time": "2023-03-09T10:49:37.151798",
     "status": "completed"
    },
    "tags": []
   },
   "source": []
  },
  {
   "cell_type": "markdown",
   "id": "aabbcd72",
   "metadata": {
    "papermill": {
     "duration": 0.01479,
     "end_time": "2023-03-09T10:49:37.196849",
     "exception": false,
     "start_time": "2023-03-09T10:49:37.182059",
     "status": "completed"
    },
    "tags": []
   },
   "source": [
    "### **Booking trends:  we Analyze the trend of hotel bookings is september to december and people like to come on weekends and weeknight both .**\n",
    "### **Cancellation rates: cancellation rate is 32.76 %.**\n",
    "### **Room types and rates: according to the analysis people likes room type 1 which is belong to normal category and average room price is 102.97**\n",
    "### **Revenue : total revenue is 3735243.17 INR**"
   ]
  },
  {
   "cell_type": "markdown",
   "id": "587657f3",
   "metadata": {
    "papermill": {
     "duration": 0.014814,
     "end_time": "2023-03-09T10:49:37.226744",
     "exception": false,
     "start_time": "2023-03-09T10:49:37.211930",
     "status": "completed"
    },
    "tags": []
   },
   "source": [
    "### **Booking channels : We Analyze the trend the of booking :-**\n",
    "###                            **Online :-23214**\n",
    "###                          **Offline  :-10528**\n",
    "###                         **Corporate :- 2017**\n",
    "###                     **Complementary :-  391**\n",
    "###                         **Aviation  :-  125**\n",
    "                                 \n"
   ]
  }
 ],
 "metadata": {
  "kernelspec": {
   "display_name": "Python 3",
   "language": "python",
   "name": "python3"
  },
  "language_info": {
   "codemirror_mode": {
    "name": "ipython",
    "version": 3
   },
   "file_extension": ".py",
   "mimetype": "text/x-python",
   "name": "python",
   "nbconvert_exporter": "python",
   "pygments_lexer": "ipython3",
   "version": "3.7.12"
  },
  "papermill": {
   "default_parameters": {},
   "duration": 19.652779,
   "end_time": "2023-03-09T10:49:37.965465",
   "environment_variables": {},
   "exception": null,
   "input_path": "__notebook__.ipynb",
   "output_path": "__notebook__.ipynb",
   "parameters": {},
   "start_time": "2023-03-09T10:49:18.312686",
   "version": "2.3.4"
  }
 },
 "nbformat": 4,
 "nbformat_minor": 5
}
